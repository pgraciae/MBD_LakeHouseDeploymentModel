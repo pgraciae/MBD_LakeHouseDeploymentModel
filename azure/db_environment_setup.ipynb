{
 "cells": [
  {
   "cell_type": "markdown",
   "metadata": {
    "application/vnd.databricks.v1+cell": {
     "cellMetadata": {},
     "inputWidgets": {},
     "nuid": "21b47067-29e0-4e15-b494-6321f63fdcf7",
     "showTitle": false,
     "title": ""
    }
   },
   "source": [
    "# Notebook para el setup del entorno\n",
    "* Vista de storage credentials\n",
    "* Creación external locations\n",
    "* Creación schema\n",
    "* Creación tabla externa"
   ]
  },
  {
   "cell_type": "markdown",
   "metadata": {
    "application/vnd.databricks.v1+cell": {
     "cellMetadata": {},
     "inputWidgets": {},
     "nuid": "b3770d36-15fe-46f4-bc35-45cc3920216b",
     "showTitle": false,
     "title": ""
    }
   },
   "source": [
    "### Visualización storage credential"
   ]
  },
  {
   "cell_type": "code",
   "execution_count": 0,
   "metadata": {
    "application/vnd.databricks.v1+cell": {
     "cellMetadata": {
      "byteLimit": 2048000,
      "rowLimit": 10000
     },
     "inputWidgets": {},
     "nuid": "d155304b-2f85-4686-8c0a-b08530ded1ad",
     "showTitle": false,
     "title": ""
    }
   },
   "outputs": [
    {
     "output_type": "display_data",
     "data": {
      "text/html": [
       "<style scoped>\n",
       "  .table-result-container {\n",
       "    max-height: 300px;\n",
       "    overflow: auto;\n",
       "  }\n",
       "  table, th, td {\n",
       "    border: 1px solid black;\n",
       "    border-collapse: collapse;\n",
       "  }\n",
       "  th, td {\n",
       "    padding: 5px;\n",
       "  }\n",
       "  th {\n",
       "    text-align: left;\n",
       "  }\n",
       "</style><div class='table-result-container'><table class='table-result'><thead style='background-color: white'><tr><th>name</th><th>comment</th></tr></thead><tbody><tr><td>9b5f45a1-0fd9-49e4-a7ab-d7e7f8e49fbc-storage-credential-1694691461923</td><td>null</td></tr><tr><td>deltalake_credential</td><td>Storage credential para conectarse al deltalake</td></tr></tbody></table></div>"
      ]
     },
     "metadata": {
      "application/vnd.databricks.v1+output": {
       "addedWidgets": {},
       "aggData": [],
       "aggError": "",
       "aggOverflow": false,
       "aggSchema": [],
       "aggSeriesLimitReached": false,
       "aggType": "",
       "arguments": {},
       "columnCustomDisplayInfos": {},
       "data": [
        [
         "9b5f45a1-0fd9-49e4-a7ab-d7e7f8e49fbc-storage-credential-1694691461923",
         null
        ],
        [
         "deltalake_credential",
         "Storage credential para conectarse al deltalake"
        ]
       ],
       "datasetInfos": [],
       "dbfsResultPath": null,
       "isJsonSchema": true,
       "metadata": {},
       "overflow": false,
       "plotOptions": {
        "customPlotOptions": {},
        "displayType": "table",
        "pivotAggregation": null,
        "pivotColumns": null,
        "xColumns": null,
        "yColumns": null
       },
       "removedWidgets": [],
       "schema": [
        {
         "metadata": "{}",
         "name": "name",
         "type": "\"string\""
        },
        {
         "metadata": "{}",
         "name": "comment",
         "type": "\"string\""
        }
       ],
       "type": "table"
      }
     },
     "output_type": "display_data"
    }
   ],
   "source": [
    "display(spark.sql(\"SHOW STORAGE CREDENTIALS\"))"
   ]
  },
  {
   "cell_type": "code",
   "execution_count": 0,
   "metadata": {
    "application/vnd.databricks.v1+cell": {
     "cellMetadata": {
      "byteLimit": 2048000,
      "rowLimit": 10000
     },
     "inputWidgets": {},
     "nuid": "1b995467-4e1c-4ab6-a369-7388b7870e49",
     "showTitle": false,
     "title": ""
    }
   },
   "outputs": [
    {
     "output_type": "display_data",
     "data": {
      "text/html": [
       "<style scoped>\n",
       "  .table-result-container {\n",
       "    max-height: 300px;\n",
       "    overflow: auto;\n",
       "  }\n",
       "  table, th, td {\n",
       "    border: 1px solid black;\n",
       "    border-collapse: collapse;\n",
       "  }\n",
       "  th, td {\n",
       "    padding: 5px;\n",
       "  }\n",
       "  th {\n",
       "    text-align: left;\n",
       "  }\n",
       "</style><div class='table-result-container'><table class='table-result'><thead style='background-color: white'><tr><th>name</th><th>owner</th><th>created_at</th><th>created_by</th><th>credential</th><th>comment</th></tr></thead><tbody><tr><td>deltalake_credential</td><td>pol.graciae_gmail.com#ext#@polgraciaegmail.onmicrosoft.com</td><td>2023-09-14T11:47:50.279+0000</td><td>pol.graciae_gmail.com#ext#@polgraciaegmail.onmicrosoft.com</td><td>AzureManagedIdentity:connector_id:/subscriptions/76dc948c-ff9a-4866-9f72-a751310ca6f8/resourceGroups/rg-processinglakehouse-test-westeurope-002/providers/Microsoft.Databricks/accessConnectors/adbc-processinglayer-test-02,mi_id:System-Assigned MI,credential_id:6146e56b-8ad9-4d28-a962-f4e48f417578</td><td>Storage credential para conectarse al deltalake</td></tr></tbody></table></div>"
      ]
     },
     "metadata": {
      "application/vnd.databricks.v1+output": {
       "addedWidgets": {},
       "aggData": [],
       "aggError": "",
       "aggOverflow": false,
       "aggSchema": [],
       "aggSeriesLimitReached": false,
       "aggType": "",
       "arguments": {},
       "columnCustomDisplayInfos": {},
       "data": [
        [
         "deltalake_credential",
         "pol.graciae_gmail.com#ext#@polgraciaegmail.onmicrosoft.com",
         "2023-09-14T11:47:50.279+0000",
         "pol.graciae_gmail.com#ext#@polgraciaegmail.onmicrosoft.com",
         "AzureManagedIdentity:connector_id:/subscriptions/76dc948c-ff9a-4866-9f72-a751310ca6f8/resourceGroups/rg-processinglakehouse-test-westeurope-002/providers/Microsoft.Databricks/accessConnectors/adbc-processinglayer-test-02,mi_id:System-Assigned MI,credential_id:6146e56b-8ad9-4d28-a962-f4e48f417578",
         "Storage credential para conectarse al deltalake"
        ]
       ],
       "datasetInfos": [],
       "dbfsResultPath": null,
       "isJsonSchema": true,
       "metadata": {},
       "overflow": false,
       "plotOptions": {
        "customPlotOptions": {},
        "displayType": "table",
        "pivotAggregation": null,
        "pivotColumns": null,
        "xColumns": null,
        "yColumns": null
       },
       "removedWidgets": [],
       "schema": [
        {
         "metadata": "{}",
         "name": "name",
         "type": "\"string\""
        },
        {
         "metadata": "{}",
         "name": "owner",
         "type": "\"string\""
        },
        {
         "metadata": "{}",
         "name": "created_at",
         "type": "\"timestamp\""
        },
        {
         "metadata": "{}",
         "name": "created_by",
         "type": "\"string\""
        },
        {
         "metadata": "{}",
         "name": "credential",
         "type": "\"string\""
        },
        {
         "metadata": "{}",
         "name": "comment",
         "type": "\"string\""
        }
       ],
       "type": "table"
      }
     },
     "output_type": "display_data"
    }
   ],
   "source": [
    "display(spark.sql(\"DESCRIBE STORAGE CREDENTIAL deltalake_credential\"))"
   ]
  },
  {
   "cell_type": "markdown",
   "metadata": {
    "application/vnd.databricks.v1+cell": {
     "cellMetadata": {},
     "inputWidgets": {},
     "nuid": "ba60ed35-686d-437a-82a7-c444cd0b217f",
     "showTitle": false,
     "title": ""
    }
   },
   "source": [
    "### Creación external locations"
   ]
  },
  {
   "cell_type": "code",
   "execution_count": 0,
   "metadata": {
    "application/vnd.databricks.v1+cell": {
     "cellMetadata": {
      "byteLimit": 2048000,
      "rowLimit": 10000
     },
     "inputWidgets": {},
     "nuid": "26884162-0616-4136-9692-4b39404d3b1b",
     "showTitle": false,
     "title": ""
    }
   },
   "outputs": [
    {
     "output_type": "execute_result",
     "data": {
      "text/plain": [
       "DataFrame[]"
      ]
     },
     "execution_count": 11,
     "metadata": {},
     "output_type": "execute_result"
    }
   ],
   "source": [
    "spark.sql(\"CREATE EXTERNAL LOCATION bronzelayer \"\n",
    "   \"URL 'abfss://adl-bronzelayer-test01@sastoragelayertest02.dfs.core.windows.net/' \"\n",
    "   \"WITH (STORAGE CREDENTIAL deltalake_credential)\")"
   ]
  },
  {
   "cell_type": "code",
   "execution_count": 0,
   "metadata": {
    "application/vnd.databricks.v1+cell": {
     "cellMetadata": {
      "byteLimit": 2048000,
      "rowLimit": 10000
     },
     "inputWidgets": {},
     "nuid": "ce98df6b-54c7-4739-9102-b6d488744ed2",
     "showTitle": false,
     "title": ""
    }
   },
   "outputs": [
    {
     "output_type": "display_data",
     "data": {
      "text/html": [
       "<style scoped>\n",
       "  .table-result-container {\n",
       "    max-height: 300px;\n",
       "    overflow: auto;\n",
       "  }\n",
       "  table, th, td {\n",
       "    border: 1px solid black;\n",
       "    border-collapse: collapse;\n",
       "  }\n",
       "  th, td {\n",
       "    padding: 5px;\n",
       "  }\n",
       "  th {\n",
       "    text-align: left;\n",
       "  }\n",
       "</style><div class='table-result-container'><table class='table-result'><thead style='background-color: white'><tr><th>name</th><th>url</th><th>credential_name</th><th>owner</th><th>created_by</th><th>created_at</th><th>comment</th></tr></thead><tbody><tr><td>bronzelayer</td><td>abfss://adl-bronzelayer-test01@sastoragelayertest02.dfs.core.windows.net/</td><td>deltalake_credential</td><td>pol.graciae_gmail.com#ext#@polgraciaegmail.onmicrosoft.com</td><td>pol.graciae_gmail.com#ext#@polgraciaegmail.onmicrosoft.com</td><td>2023-09-14T12:09:01.517+0000</td><td>null</td></tr></tbody></table></div>"
      ]
     },
     "metadata": {
      "application/vnd.databricks.v1+output": {
       "addedWidgets": {},
       "aggData": [],
       "aggError": "",
       "aggOverflow": false,
       "aggSchema": [],
       "aggSeriesLimitReached": false,
       "aggType": "",
       "arguments": {},
       "columnCustomDisplayInfos": {},
       "data": [
        [
         "bronzelayer",
         "abfss://adl-bronzelayer-test01@sastoragelayertest02.dfs.core.windows.net/",
         "deltalake_credential",
         "pol.graciae_gmail.com#ext#@polgraciaegmail.onmicrosoft.com",
         "pol.graciae_gmail.com#ext#@polgraciaegmail.onmicrosoft.com",
         "2023-09-14T12:09:01.517+0000",
         null
        ]
       ],
       "datasetInfos": [],
       "dbfsResultPath": null,
       "isJsonSchema": true,
       "metadata": {},
       "overflow": false,
       "plotOptions": {
        "customPlotOptions": {},
        "displayType": "table",
        "pivotAggregation": null,
        "pivotColumns": null,
        "xColumns": null,
        "yColumns": null
       },
       "removedWidgets": [],
       "schema": [
        {
         "metadata": "{}",
         "name": "name",
         "type": "\"string\""
        },
        {
         "metadata": "{}",
         "name": "url",
         "type": "\"string\""
        },
        {
         "metadata": "{}",
         "name": "credential_name",
         "type": "\"string\""
        },
        {
         "metadata": "{}",
         "name": "owner",
         "type": "\"string\""
        },
        {
         "metadata": "{}",
         "name": "created_by",
         "type": "\"string\""
        },
        {
         "metadata": "{}",
         "name": "created_at",
         "type": "\"timestamp\""
        },
        {
         "metadata": "{}",
         "name": "comment",
         "type": "\"string\""
        }
       ],
       "type": "table"
      }
     },
     "output_type": "display_data"
    }
   ],
   "source": [
    "display(spark.sql(\"DESCRIBE EXTERNAL LOCATION bronzelayer\"))"
   ]
  },
  {
   "cell_type": "code",
   "execution_count": 0,
   "metadata": {
    "application/vnd.databricks.v1+cell": {
     "cellMetadata": {
      "byteLimit": 2048000,
      "rowLimit": 10000
     },
     "inputWidgets": {},
     "nuid": "f7752203-b3c2-46e5-a128-283497773ee4",
     "showTitle": false,
     "title": ""
    }
   },
   "outputs": [
    {
     "output_type": "execute_result",
     "data": {
      "text/plain": [
       "DataFrame[]"
      ]
     },
     "execution_count": 6,
     "metadata": {},
     "output_type": "execute_result"
    }
   ],
   "source": [
    "spark.sql(\"CREATE EXTERNAL LOCATION silverlayer \"\n",
    "   \"URL 'abfss://adl-silverlayer-test-01@sastoragelayertest02.dfs.core.windows.net/' \"\n",
    "   \"WITH (STORAGE CREDENTIAL deltalake_credential)\")"
   ]
  },
  {
   "cell_type": "code",
   "execution_count": 0,
   "metadata": {
    "application/vnd.databricks.v1+cell": {
     "cellMetadata": {
      "byteLimit": 2048000,
      "rowLimit": 10000
     },
     "inputWidgets": {},
     "nuid": "fae5ea2e-249d-4952-aa1f-74395b1fecbd",
     "showTitle": false,
     "title": ""
    }
   },
   "outputs": [
    {
     "output_type": "display_data",
     "data": {
      "text/html": [
       "<style scoped>\n",
       "  .table-result-container {\n",
       "    max-height: 300px;\n",
       "    overflow: auto;\n",
       "  }\n",
       "  table, th, td {\n",
       "    border: 1px solid black;\n",
       "    border-collapse: collapse;\n",
       "  }\n",
       "  th, td {\n",
       "    padding: 5px;\n",
       "  }\n",
       "  th {\n",
       "    text-align: left;\n",
       "  }\n",
       "</style><div class='table-result-container'><table class='table-result'><thead style='background-color: white'><tr><th>name</th><th>url</th><th>credential_name</th><th>owner</th><th>created_by</th><th>created_at</th><th>comment</th></tr></thead><tbody><tr><td>silverlayer</td><td>abfss://adl-silverlayer-test-01@sastoragelayertest02.dfs.core.windows.net/</td><td>deltalake_credential</td><td>pol.graciae_gmail.com#ext#@polgraciaegmail.onmicrosoft.com</td><td>pol.graciae_gmail.com#ext#@polgraciaegmail.onmicrosoft.com</td><td>2023-09-14T12:07:14.922+0000</td><td>null</td></tr></tbody></table></div>"
      ]
     },
     "metadata": {
      "application/vnd.databricks.v1+output": {
       "addedWidgets": {},
       "aggData": [],
       "aggError": "",
       "aggOverflow": false,
       "aggSchema": [],
       "aggSeriesLimitReached": false,
       "aggType": "",
       "arguments": {},
       "columnCustomDisplayInfos": {},
       "data": [
        [
         "silverlayer",
         "abfss://adl-silverlayer-test-01@sastoragelayertest02.dfs.core.windows.net/",
         "deltalake_credential",
         "pol.graciae_gmail.com#ext#@polgraciaegmail.onmicrosoft.com",
         "pol.graciae_gmail.com#ext#@polgraciaegmail.onmicrosoft.com",
         "2023-09-14T12:07:14.922+0000",
         null
        ]
       ],
       "datasetInfos": [],
       "dbfsResultPath": null,
       "isJsonSchema": true,
       "metadata": {},
       "overflow": false,
       "plotOptions": {
        "customPlotOptions": {},
        "displayType": "table",
        "pivotAggregation": null,
        "pivotColumns": null,
        "xColumns": null,
        "yColumns": null
       },
       "removedWidgets": [],
       "schema": [
        {
         "metadata": "{}",
         "name": "name",
         "type": "\"string\""
        },
        {
         "metadata": "{}",
         "name": "url",
         "type": "\"string\""
        },
        {
         "metadata": "{}",
         "name": "credential_name",
         "type": "\"string\""
        },
        {
         "metadata": "{}",
         "name": "owner",
         "type": "\"string\""
        },
        {
         "metadata": "{}",
         "name": "created_by",
         "type": "\"string\""
        },
        {
         "metadata": "{}",
         "name": "created_at",
         "type": "\"timestamp\""
        },
        {
         "metadata": "{}",
         "name": "comment",
         "type": "\"string\""
        }
       ],
       "type": "table"
      }
     },
     "output_type": "display_data"
    }
   ],
   "source": [
    "display(spark.sql(\"DESCRIBE EXTERNAL LOCATION silverlayer\"))"
   ]
  },
  {
   "cell_type": "code",
   "execution_count": 0,
   "metadata": {
    "application/vnd.databricks.v1+cell": {
     "cellMetadata": {
      "byteLimit": 2048000,
      "rowLimit": 10000
     },
     "inputWidgets": {},
     "nuid": "a4f2c5fb-3094-4a0b-aecc-764b95117dbc",
     "showTitle": false,
     "title": ""
    }
   },
   "outputs": [
    {
     "output_type": "execute_result",
     "data": {
      "text/plain": [
       "DataFrame[]"
      ]
     },
     "execution_count": 8,
     "metadata": {},
     "output_type": "execute_result"
    }
   ],
   "source": [
    "spark.sql(\"CREATE EXTERNAL LOCATION goldlayer \"\n",
    "   \"URL 'abfss://adl-goldlayer-test-01@sastoragelayertest02.dfs.core.windows.net/' \"\n",
    "   \"WITH (STORAGE CREDENTIAL deltalake_credential)\")"
   ]
  },
  {
   "cell_type": "code",
   "execution_count": 0,
   "metadata": {
    "application/vnd.databricks.v1+cell": {
     "cellMetadata": {
      "byteLimit": 2048000,
      "rowLimit": 10000
     },
     "inputWidgets": {},
     "nuid": "d3b19c5b-5940-472a-a6ee-ea35719d6140",
     "showTitle": false,
     "title": ""
    }
   },
   "outputs": [
    {
     "output_type": "display_data",
     "data": {
      "text/html": [
       "<style scoped>\n",
       "  .table-result-container {\n",
       "    max-height: 300px;\n",
       "    overflow: auto;\n",
       "  }\n",
       "  table, th, td {\n",
       "    border: 1px solid black;\n",
       "    border-collapse: collapse;\n",
       "  }\n",
       "  th, td {\n",
       "    padding: 5px;\n",
       "  }\n",
       "  th {\n",
       "    text-align: left;\n",
       "  }\n",
       "</style><div class='table-result-container'><table class='table-result'><thead style='background-color: white'><tr><th>name</th><th>url</th><th>credential_name</th><th>owner</th><th>created_by</th><th>created_at</th><th>comment</th></tr></thead><tbody><tr><td>goldlayer</td><td>abfss://adl-goldlayer-test-01@sastoragelayertest02.dfs.core.windows.net/</td><td>deltalake_credential</td><td>pol.graciae_gmail.com#ext#@polgraciaegmail.onmicrosoft.com</td><td>pol.graciae_gmail.com#ext#@polgraciaegmail.onmicrosoft.com</td><td>2023-09-14T12:07:20.687+0000</td><td>null</td></tr></tbody></table></div>"
      ]
     },
     "metadata": {
      "application/vnd.databricks.v1+output": {
       "addedWidgets": {},
       "aggData": [],
       "aggError": "",
       "aggOverflow": false,
       "aggSchema": [],
       "aggSeriesLimitReached": false,
       "aggType": "",
       "arguments": {},
       "columnCustomDisplayInfos": {},
       "data": [
        [
         "goldlayer",
         "abfss://adl-goldlayer-test-01@sastoragelayertest02.dfs.core.windows.net/",
         "deltalake_credential",
         "pol.graciae_gmail.com#ext#@polgraciaegmail.onmicrosoft.com",
         "pol.graciae_gmail.com#ext#@polgraciaegmail.onmicrosoft.com",
         "2023-09-14T12:07:20.687+0000",
         null
        ]
       ],
       "datasetInfos": [],
       "dbfsResultPath": null,
       "isJsonSchema": true,
       "metadata": {},
       "overflow": false,
       "plotOptions": {
        "customPlotOptions": {},
        "displayType": "table",
        "pivotAggregation": null,
        "pivotColumns": null,
        "xColumns": null,
        "yColumns": null
       },
       "removedWidgets": [],
       "schema": [
        {
         "metadata": "{}",
         "name": "name",
         "type": "\"string\""
        },
        {
         "metadata": "{}",
         "name": "url",
         "type": "\"string\""
        },
        {
         "metadata": "{}",
         "name": "credential_name",
         "type": "\"string\""
        },
        {
         "metadata": "{}",
         "name": "owner",
         "type": "\"string\""
        },
        {
         "metadata": "{}",
         "name": "created_by",
         "type": "\"string\""
        },
        {
         "metadata": "{}",
         "name": "created_at",
         "type": "\"timestamp\""
        },
        {
         "metadata": "{}",
         "name": "comment",
         "type": "\"string\""
        }
       ],
       "type": "table"
      }
     },
     "output_type": "display_data"
    }
   ],
   "source": [
    "display(spark.sql(\"DESCRIBE EXTERNAL LOCATION goldlayer\"))"
   ]
  },
  {
   "cell_type": "markdown",
   "metadata": {
    "application/vnd.databricks.v1+cell": {
     "cellMetadata": {},
     "inputWidgets": {},
     "nuid": "929ef454-d78a-4a64-a437-d5d24f8a2159",
     "showTitle": false,
     "title": ""
    }
   },
   "source": [
    "### Creación de schema (test)"
   ]
  },
  {
   "cell_type": "code",
   "execution_count": 0,
   "metadata": {
    "application/vnd.databricks.v1+cell": {
     "cellMetadata": {
      "byteLimit": 2048000,
      "rowLimit": 10000
     },
     "inputWidgets": {},
     "nuid": "606713c1-4c46-4d82-a0d2-125d15adb4bb",
     "showTitle": false,
     "title": ""
    }
   },
   "outputs": [
    {
     "output_type": "execute_result",
     "data": {
      "text/plain": [
       "DataFrame[]"
      ]
     },
     "execution_count": 13,
     "metadata": {},
     "output_type": "execute_result"
    }
   ],
   "source": [
    "spark.sql('USE CATALOG main')"
   ]
  },
  {
   "cell_type": "code",
   "execution_count": 0,
   "metadata": {
    "application/vnd.databricks.v1+cell": {
     "cellMetadata": {
      "byteLimit": 2048000,
      "rowLimit": 10000
     },
     "inputWidgets": {},
     "nuid": "a0330675-9e0a-4c4e-8ff4-822417fd4697",
     "showTitle": false,
     "title": ""
    }
   },
   "outputs": [
    {
     "output_type": "execute_result",
     "data": {
      "text/plain": [
       "DataFrame[]"
      ]
     },
     "execution_count": 14,
     "metadata": {},
     "output_type": "execute_result"
    }
   ],
   "source": [
    "spark.sql('CREATE SCHEMA IF NOT EXISTS test_schema')"
   ]
  },
  {
   "cell_type": "markdown",
   "metadata": {
    "application/vnd.databricks.v1+cell": {
     "cellMetadata": {},
     "inputWidgets": {},
     "nuid": "30c45e27-f38b-4f49-bc0c-cc2233ca5a94",
     "showTitle": false,
     "title": ""
    }
   },
   "source": [
    "### Crear external table\n",
    "\n",
    "Los valores que añadimos se guardarán en el blob storage definido"
   ]
  },
  {
   "cell_type": "code",
   "execution_count": 0,
   "metadata": {
    "application/vnd.databricks.v1+cell": {
     "cellMetadata": {
      "byteLimit": 2048000,
      "implicitDf": true,
      "rowLimit": 10000
     },
     "inputWidgets": {},
     "nuid": "f2833d38-569e-42ab-901e-72a86586090b",
     "showTitle": false,
     "title": ""
    }
   },
   "outputs": [
    {
     "output_type": "display_data",
     "data": {
      "text/html": [
       "<style scoped>\n",
       "  .table-result-container {\n",
       "    max-height: 300px;\n",
       "    overflow: auto;\n",
       "  }\n",
       "  table, th, td {\n",
       "    border: 1px solid black;\n",
       "    border-collapse: collapse;\n",
       "  }\n",
       "  th, td {\n",
       "    padding: 5px;\n",
       "  }\n",
       "  th {\n",
       "    text-align: left;\n",
       "  }\n",
       "</style><div class='table-result-container'><table class='table-result'><thead style='background-color: white'><tr></tr></thead><tbody></tbody></table></div>"
      ]
     },
     "metadata": {
      "application/vnd.databricks.v1+output": {
       "addedWidgets": {},
       "aggData": [],
       "aggError": "",
       "aggOverflow": false,
       "aggSchema": [],
       "aggSeriesLimitReached": false,
       "aggType": "",
       "arguments": {},
       "columnCustomDisplayInfos": {},
       "data": [],
       "datasetInfos": [],
       "dbfsResultPath": null,
       "isJsonSchema": true,
       "metadata": {
        "dataframeName": null
       },
       "overflow": false,
       "plotOptions": {
        "customPlotOptions": {},
        "displayType": "table",
        "pivotAggregation": null,
        "pivotColumns": null,
        "xColumns": null,
        "yColumns": null
       },
       "removedWidgets": [],
       "schema": [],
       "type": "table"
      }
     },
     "output_type": "display_data"
    }
   ],
   "source": [
    "%sql\n",
    "CREATE TABLE IF NOT EXISTS main.test_schema.test_table\n",
    "(\n",
    "  id INT,\n",
    "  nom  STRING,\n",
    "  location  STRING\n",
    ")\n",
    "USING DELTA\n",
    "LOCATION 'abfss://adl-bronzelayer-test01@sastoragelayertest02.dfs.core.windows.net/test_table'\n",
    "PARTITIONED BY (location);"
   ]
  },
  {
   "cell_type": "markdown",
   "metadata": {
    "application/vnd.databricks.v1+cell": {
     "cellMetadata": {},
     "inputWidgets": {},
     "nuid": "af25120e-a6e4-4795-90d3-7ce3cc00e44e",
     "showTitle": false,
     "title": ""
    }
   },
   "source": [
    "#### Inserció de valors\n",
    "\n",
    "Apareixen a la localització definida"
   ]
  },
  {
   "cell_type": "code",
   "execution_count": 0,
   "metadata": {
    "application/vnd.databricks.v1+cell": {
     "cellMetadata": {
      "byteLimit": 2048000,
      "implicitDf": true,
      "rowLimit": 10000
     },
     "inputWidgets": {},
     "nuid": "5fe76b68-038f-4b07-b1eb-7dbfcc0a74ab",
     "showTitle": false,
     "title": ""
    }
   },
   "outputs": [
    {
     "output_type": "display_data",
     "data": {
      "text/html": [
       "<style scoped>\n",
       "  .table-result-container {\n",
       "    max-height: 300px;\n",
       "    overflow: auto;\n",
       "  }\n",
       "  table, th, td {\n",
       "    border: 1px solid black;\n",
       "    border-collapse: collapse;\n",
       "  }\n",
       "  th, td {\n",
       "    padding: 5px;\n",
       "  }\n",
       "  th {\n",
       "    text-align: left;\n",
       "  }\n",
       "</style><div class='table-result-container'><table class='table-result'><thead style='background-color: white'><tr><th>num_affected_rows</th><th>num_inserted_rows</th></tr></thead><tbody><tr><td>5</td><td>5</td></tr></tbody></table></div>"
      ]
     },
     "metadata": {
      "application/vnd.databricks.v1+output": {
       "addedWidgets": {},
       "aggData": [],
       "aggError": "",
       "aggOverflow": false,
       "aggSchema": [],
       "aggSeriesLimitReached": false,
       "aggType": "",
       "arguments": {},
       "columnCustomDisplayInfos": {},
       "data": [
        [
         5,
         5
        ]
       ],
       "datasetInfos": [
        {
         "name": "_sqldf",
         "schema": {
          "fields": [
           {
            "metadata": {},
            "name": "num_affected_rows",
            "nullable": true,
            "type": "long"
           },
           {
            "metadata": {},
            "name": "num_inserted_rows",
            "nullable": true,
            "type": "long"
           }
          ],
          "type": "struct"
         },
         "tableIdentifier": null,
         "typeStr": "pyspark.sql.dataframe.DataFrame"
        }
       ],
       "dbfsResultPath": null,
       "isJsonSchema": true,
       "metadata": {
        "dataframeName": "_sqldf",
        "executionCount": 15
       },
       "overflow": false,
       "plotOptions": {
        "customPlotOptions": {},
        "displayType": "table",
        "pivotAggregation": null,
        "pivotColumns": null,
        "xColumns": null,
        "yColumns": null
       },
       "removedWidgets": [],
       "schema": [
        {
         "metadata": "{}",
         "name": "num_affected_rows",
         "type": "\"long\""
        },
        {
         "metadata": "{}",
         "name": "num_inserted_rows",
         "type": "\"long\""
        }
       ],
       "type": "table"
      }
     },
     "output_type": "display_data"
    }
   ],
   "source": [
    "%sql\n",
    "INSERT INTO main.test_schema.test_table VALUES\n",
    "  (10, 'Pol', 'EDINBURGH'),\n",
    "  (20, 'Joan', 'PADDINGTON'),\n",
    "  (30, 'Bernat', 'MAIDSTONE'),\n",
    "  (40, 'Victor', 'DARLINGTON'),\n",
    "  (50, 'Carles', 'BIRMINGHAM');"
   ]
  },
  {
   "cell_type": "code",
   "execution_count": 0,
   "metadata": {
    "application/vnd.databricks.v1+cell": {
     "cellMetadata": {
      "byteLimit": 2048000,
      "implicitDf": true,
      "rowLimit": 10000
     },
     "inputWidgets": {},
     "nuid": "6893d596-45a3-4372-8634-a5e09868d29e",
     "showTitle": false,
     "title": ""
    }
   },
   "outputs": [
    {
     "output_type": "display_data",
     "data": {
      "text/html": [
       "<style scoped>\n",
       "  .table-result-container {\n",
       "    max-height: 300px;\n",
       "    overflow: auto;\n",
       "  }\n",
       "  table, th, td {\n",
       "    border: 1px solid black;\n",
       "    border-collapse: collapse;\n",
       "  }\n",
       "  th, td {\n",
       "    padding: 5px;\n",
       "  }\n",
       "  th {\n",
       "    text-align: left;\n",
       "  }\n",
       "</style><div class='table-result-container'><table class='table-result'><thead style='background-color: white'><tr><th>id</th><th>nom</th><th>location</th></tr></thead><tbody><tr><td>30</td><td>Bernat</td><td>MAIDSTONE</td></tr><tr><td>40</td><td>Victor</td><td>DARLINGTON</td></tr><tr><td>50</td><td>Carles</td><td>BIRMINGHAM</td></tr><tr><td>20</td><td>Joan</td><td>PADDINGTON</td></tr><tr><td>10</td><td>Pol</td><td>EDINBURGH</td></tr></tbody></table></div>"
      ]
     },
     "metadata": {
      "application/vnd.databricks.v1+output": {
       "addedWidgets": {},
       "aggData": [],
       "aggError": "",
       "aggOverflow": false,
       "aggSchema": [],
       "aggSeriesLimitReached": false,
       "aggType": "",
       "arguments": {},
       "columnCustomDisplayInfos": {},
       "data": [
        [
         30,
         "Bernat",
         "MAIDSTONE"
        ],
        [
         40,
         "Victor",
         "DARLINGTON"
        ],
        [
         50,
         "Carles",
         "BIRMINGHAM"
        ],
        [
         20,
         "Joan",
         "PADDINGTON"
        ],
        [
         10,
         "Pol",
         "EDINBURGH"
        ]
       ],
       "datasetInfos": [
        {
         "name": "_sqldf",
         "schema": {
          "fields": [
           {
            "metadata": {},
            "name": "id",
            "nullable": true,
            "type": "integer"
           },
           {
            "metadata": {},
            "name": "nom",
            "nullable": true,
            "type": "string"
           },
           {
            "metadata": {},
            "name": "location",
            "nullable": true,
            "type": "string"
           }
          ],
          "type": "struct"
         },
         "tableIdentifier": null,
         "typeStr": "pyspark.sql.dataframe.DataFrame"
        }
       ],
       "dbfsResultPath": null,
       "isJsonSchema": true,
       "metadata": {
        "dataframeName": "_sqldf",
        "executionCount": 16
       },
       "overflow": false,
       "plotOptions": {
        "customPlotOptions": {},
        "displayType": "table",
        "pivotAggregation": null,
        "pivotColumns": null,
        "xColumns": null,
        "yColumns": null
       },
       "removedWidgets": [],
       "schema": [
        {
         "metadata": "{}",
         "name": "id",
         "type": "\"integer\""
        },
        {
         "metadata": "{}",
         "name": "nom",
         "type": "\"string\""
        },
        {
         "metadata": "{}",
         "name": "location",
         "type": "\"string\""
        }
       ],
       "type": "table"
      }
     },
     "output_type": "display_data"
    }
   ],
   "source": [
    "%sql\n",
    "select *\n",
    "from test_schema.test_table"
   ]
  }
 ],
 "metadata": {
  "application/vnd.databricks.v1+notebook": {
   "dashboards": [],
   "language": "python",
   "notebookMetadata": {
    "mostRecentlyExecutedCommandWithImplicitDF": {
     "commandId": 4350794847914133,
     "dataframes": [
      "_sqldf"
     ]
    },
    "pythonIndentUnit": 4
   },
   "notebookName": "environment_setup",
   "widgets": {}
  }
 },
 "nbformat": 4,
 "nbformat_minor": 0
}
