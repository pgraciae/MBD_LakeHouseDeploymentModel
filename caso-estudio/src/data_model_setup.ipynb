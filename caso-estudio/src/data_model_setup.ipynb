{
 "cells": [
  {
   "cell_type": "markdown",
   "metadata": {
    "application/vnd.databricks.v1+cell": {
     "cellMetadata": {},
     "inputWidgets": {},
     "nuid": "e5121900-9677-4401-a8cb-2767ab771c29",
     "showTitle": false,
     "title": ""
    }
   },
   "source": [
    "# Creación de tablas\n",
    "\n",
    " Este notebook crea 2 tablas dónde se van a guardar los datos respectivamente en la silver y gold layer. En la bronze layer no se crea tabla ya que los datos se encuentran en formato raw.\n"
   ]
  },
  {
   "cell_type": "code",
   "execution_count": 0,
   "metadata": {
    "application/vnd.databricks.v1+cell": {
     "cellMetadata": {},
     "inputWidgets": {},
     "nuid": "588d751a-8cc8-4493-89dd-c41320f56036",
     "showTitle": false,
     "title": ""
    }
   },
   "outputs": [],
   "source": [
    "%sql\n",
    "CREATE SCHEMA IF NOT EXISTS silver;\n",
    "\n",
    "-- Crear la tabla ProductInfo en la capa Silver\n",
    "CREATE TABLE IF NOT EXISTS silver.ProductInfo (\n",
    "    product_id STRING,\n",
    "    product_name STRING,\n",
    "    category STRING,\n",
    "    actual_price DOUBLE,\n",
    "    discounted_price DOUBLE,\n",
    "    discount_percentage DOUBLE,\n",
    "    img_link STRING,\n",
    "    product_link STRING,\n",
    "    about_product STRING,\n",
    "    ingestion_timestamp TIMESTAMP)\n",
    "USING DELTA\n",
    "PARTITIONED BY (category)\n",
    "LOCATION '';\n",
    "\n",
    "-- Crear la tabla ProductReviews en la capa Silver\n",
    "CREATE TABLE IF NOT EXISTS silver.ProductReviews (\n",
    "    review_id STRING,\n",
    "    product_id STRING,\n",
    "    user_id STRING,\n",
    "    user_name STRING,\n",
    "    rating DOUBLE,\n",
    "    rating_count INT,\n",
    "    review_title STRING,\n",
    "    review_content STRING,\n",
    "    review_timestamp TIMESTAMP)\n",
    "USING DELTA\n",
    "PARTITIONED BY (product_id)\n",
    "LOCATION '';\n",
    "\n",
    "CREATE SCHEMA IF NOT EXISTS gold;\n",
    "-- Crear la tabla ProductSummary en la capa Gold\n",
    "CREATE TABLE IF NOT EXISTS gold.ProductSummary (\n",
    "    product_id STRING,\n",
    "    product_name STRING,\n",
    "    category STRING,\n",
    "    average_rating DOUBLE,\n",
    "    total_reviews INT,\n",
    "    total_rating_count INT,\n",
    "    most_recent_review TIMESTAMP)\n",
    "USING DELTA\n",
    "PARTITIONED BY (category)\n",
    "LOCATION '';\n",
    "\n",
    "-- Crear la tabla UserActivity en la capa Gold\n",
    "CREATE TABLE IF NOT EXISTS gold.UserActivity (\n",
    "    user_id STRING,\n",
    "    user_name STRING,\n",
    "    total_reviews_written INT,\n",
    "    average_rating_given DOUBLE,\n",
    "    most_frequent_category STRING)\n",
    "USING DELTA\n",
    "LOCATION '';\n"
   ]
  },
  {
   "cell_type": "code",
   "execution_count": 0,
   "metadata": {
    "application/vnd.databricks.v1+cell": {
     "cellMetadata": {},
     "inputWidgets": {},
     "nuid": "70ebca71-b782-4331-8f1f-df58c4890797",
     "showTitle": false,
     "title": ""
    }
   },
   "outputs": [],
   "source": [
    "# Importar la biblioteca de funciones de PySpark\n",
    "from pyspark.sql import functions as F\n",
    "\n",
    "# Cargar el dataset desde la capa de bronce\n",
    "bronze_path = \"/mnt/bronze/amazon_product_data.csv\"\n",
    "df_bronze = spark.read.csv(bronze_path, header=True, inferSchema=False)\n",
    "\n",
    "# Transformaciones para la tabla \"product_info\"\n",
    "df_product_info = df_bronze.select(\n",
    "    F.col(\"product_id\").cast(\"string\"),\n",
    "    F.col(\"product_name\").cast(\"string\"),\n",
    "    F.col(\"category\").cast(\"string\"),\n",
    "    F.col(\"discounted_price\").cast(\"double\"),\n",
    "    F.col(\"actual_price\").cast(\"double\"),\n",
    "    F.col(\"discount_percentage\").cast(\"double\"),\n",
    "    F.col(\"rating\").cast(\"double\"),\n",
    "    F.col(\"rating_count\").cast(\"int\"),\n",
    "    F.col(\"about_product\").cast(\"string\"),\n",
    "    F.col(\"img_link\").cast(\"string\"),\n",
    "    F.col(\"product_link\").cast(\"string\")\n",
    ")\n",
    "\n",
    "# Transformaciones para la tabla \"product_reviews\"\n",
    "df_product_reviews = df_bronze.select(\n",
    "    F.col(\"product_id\").cast(\"string\"),\n",
    "    F.col(\"user_id\").cast(\"string\"),\n",
    "    F.col(\"user_name\").cast(\"string\"),\n",
    "    F.col(\"review_id\").cast(\"string\"),\n",
    "    F.col(\"review_title\").cast(\"string\"),\n",
    "    F.col(\"review_content\").cast(\"string\")\n",
    ")\n",
    "\n",
    "# Definir rutas donde se almacenarán las tablas en la capa de plata\n",
    "silver_product_info_path = \"/mnt/silver/product_info\"\n",
    "silver_product_reviews_path = \"/mnt/silver/product_reviews\"\n",
    "\n",
    "# Guardar los DataFrames transformados como tablas Delta en la capa de plata\n",
    "df_product_info.write.format(\"delta\").mode(\"overwrite\").option(\"path\", silver_product_info_path).saveAsTable(\"silver.product_info\")\n",
    "df_product_reviews.write.format(\"delta\").mode(\"overwrite\").option(\"path\", silver_product_reviews_path).saveAsTable(\"silver.product_reviews\")\n"
   ]
  }
 ],
 "metadata": {
  "application/vnd.databricks.v1+notebook": {
   "dashboards": [],
   "language": "python",
   "notebookMetadata": {
    "pythonIndentUnit": 4
   },
   "notebookName": "data_model_setup",
   "widgets": {}
  },
  "language_info": {
   "name": "python"
  },
  "orig_nbformat": 4
 },
 "nbformat": 4,
 "nbformat_minor": 0
}
